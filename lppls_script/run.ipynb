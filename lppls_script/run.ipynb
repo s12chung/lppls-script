{
 "cells": [
  {
   "cell_type": "code",
   "execution_count": null,
   "id": "cbf5a5e1-b95b-4807-a727-45a8e74a7ea5",
   "metadata": {
    "editable": true,
    "scrolled": true,
    "slideshow": {
     "slide_type": ""
    },
    "tags": []
   },
   "outputs": [],
   "source": [
    "from lppls import lppls\n",
    "import numpy as np\n",
    "import pandas as pd\n",
    "from datetime import datetime as dt\n",
    "\n",
    "import os\n",
    "\n",
    "%matplotlib inline\n",
    "\n",
    "def read_data():\n",
    "    local_path = os.path.abspath('')\n",
    "    data_path = os.path.join(local_path, 'lppls-extras', os.environ['SAFE_TICKER']+'.csv')\n",
    "    return pd.read_csv(data_path, encoding='utf-8')\n",
    "\n",
    "data = read_data()\n",
    "time = [pd.Timestamp.toordinal(dt.strptime(t1, '%Y-%m-%d')) for t1 in data['datetime']]\n",
    "price = np.log(data['close'].values)\n",
    "observations = np.array([time, price])\n",
    "\n",
    "# Tested:\n",
    "# lppls_q.QLPPLS(observations=observations) # isn't as accurate for more volitle assets\n",
    "lppls_model = lppls.LPPLS(observations=observations)\n",
    "\n",
    "# set the max number for searches to perform before giving-up\n",
    "# the literature suggests 25\n",
    "#\n",
    "# Tested:\n",
    "# MAX_SEARCHES = 50 # doesn't seem to do much\n",
    "MAX_SEARCHES = 25\n",
    "\n",
    "# fit the model to the data and get back the params\n",
    "tc, m, w, a, b, c, c1, c2, O, D = lppls_model.fit(MAX_SEARCHES)\n",
    "\n",
    "# visualize the fit\n",
    "lppls_model.plot_fit()\n",
    "\n",
    "# compute the confidence indicator\n",
    "res = lppls_model.mp_compute_nested_fits(\n",
    "    workers=8,\n",
    "    # args from the readme\n",
    "    # Tested (default args):\n",
    "    # window_size=80, smallest_window_size=20, outer_increment=5, inner_increment=2, max_searches=25, # faster, but not as much info\n",
    "    window_size=120,\n",
    "    smallest_window_size=30,\n",
    "    outer_increment=1,\n",
    "    inner_increment=5,\n",
    "    max_searches=25,\n",
    "    filter_conditions_config={},\n",
    ")\n",
    "lppls_model.plot_confidence_indicators(res)"
   ]
  },
  {
   "cell_type": "code",
   "execution_count": null,
   "id": "59e371d2-dc7e-42c7-9108-99906d9140c8",
   "metadata": {},
   "outputs": [],
   "source": []
  },
  {
   "cell_type": "code",
   "execution_count": null,
   "id": "02bc221d-fccf-4a7d-8539-52a9d15396c5",
   "metadata": {},
   "outputs": [],
   "source": []
  },
  {
   "cell_type": "code",
   "execution_count": null,
   "id": "439fffcf-ddf0-43d6-bae4-dcb0295079f6",
   "metadata": {},
   "outputs": [],
   "source": []
  }
 ],
 "metadata": {
  "kernelspec": {
   "display_name": "Python 3 (ipykernel)",
   "language": "python",
   "name": "python3"
  },
  "language_info": {
   "codemirror_mode": {
    "name": "ipython",
    "version": 3
   },
   "file_extension": ".py",
   "mimetype": "text/x-python",
   "name": "python",
   "nbconvert_exporter": "python",
   "pygments_lexer": "ipython3",
   "version": "3.12.3"
  }
 },
 "nbformat": 4,
 "nbformat_minor": 5
}
